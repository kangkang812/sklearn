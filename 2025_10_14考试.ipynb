{
 "cells": [
  {
   "metadata": {},
   "cell_type": "markdown",
   "source": [
    "选择题\n",
    "\n",
    "1.B 2.B  3.B 4.C 5.D\n",
    "6.B 7.A 8.C"
   ],
   "id": "5729fcd9a4e46140"
  },
  {
   "metadata": {},
   "cell_type": "markdown",
   "source": "python程序分析\n",
   "id": "9f95e850214837b6"
  },
  {
   "metadata": {
    "ExecuteTime": {
     "end_time": "2025-10-14T09:34:11.305518Z",
     "start_time": "2025-10-14T09:34:11.296063Z"
    }
   },
   "cell_type": "code",
   "source": [
    "# 1. 以下程序的功能是对随机产生的 1～100 之间的一个整数 n，利用二分法查找这个数并输出查找的次数。\n",
    "import random\n",
    "import math\n",
    "from re import match\n",
    "\n",
    "n = random.randint(1, 100)  # 函数 random.randint(a,b) 返回从 a 到 b 之间随机选出的一个整数\n",
    "a, b, cnt = 1, 100, 0\n",
    "while cnt < n:\n",
    "    n=math.ceil((n/2))\n",
    "    m = math.ceil((a + b) / 2)  # 函数 math.ceil(x) 的返回值为数值 x 的向上取整\n",
    "    if n < m:\n",
    "        b = m - 1\n",
    "    elif n > m:\n",
    "        a = m + 1\n",
    "\n",
    "    else:\n",
    "        break\n",
    "\n",
    "\n",
    "\n"
   ],
   "id": "b6b547ecb46f27cd",
   "outputs": [],
   "execution_count": 2
  },
  {
   "metadata": {
    "ExecuteTime": {
     "end_time": "2025-10-14T06:57:42.794644Z",
     "start_time": "2025-10-14T06:57:39.957968Z"
    }
   },
   "cell_type": "code",
   "source": [
    "# 2. 以下程序读入正整数 n，计算\n",
    "#  S = 1! − 2! + 3! − 4! + 5! − …… ± n!\n",
    "#  并输出。请在横线上填写代码。\n",
    "\n",
    "# n = int(input())\n",
    "# S = __________\n",
    "# sign = 1\n",
    "# k = __________\n",
    "# for i in range(_____________):\n",
    "#     k = __________\n",
    "#     S += sign * k\n",
    "#     sign = __________\n",
    "# print(S)\n",
    "\n",
    "n= int(input())\n",
    "S = 0\n",
    "sign = 1\n",
    "k = 0\n",
    "for i in range(n+1):\n",
    "    k = i\n",
    "    S+=sign * k\n",
    "    sign = (-1)**i\n",
    "\n",
    "print(S)\n",
    "\n"
   ],
   "id": "3a05a7e6439b6477",
   "outputs": [
    {
     "name": "stdout",
     "output_type": "stream",
     "text": [
      "-4\n"
     ]
    }
   ],
   "execution_count": 17
  },
  {
   "metadata": {
    "ExecuteTime": {
     "end_time": "2025-10-14T08:17:32.425922Z",
     "start_time": "2025-10-14T08:17:32.412510Z"
    }
   },
   "cell_type": "code",
   "source": [
    "\n",
    "# 3. 下面程序中的 Change 函数的功能是将十进制数转化 N 进制数（2 <= N <= 16）。\n",
    "#  输入目标进制和待转换的数，函数返回转换后的目标进制数。\n",
    " # 请在横线上填写代码并给出程序的输出结果\n",
    "def Change(radix, num):\n",
    "    g = []\n",
    "    while num != 0:\n",
    "        r = num % radix\n",
    "        num = num // radix\n",
    "        g.append(r)\n",
    "    ans = ''\n",
    "    t = ('A', 'B', 'C', 'D', 'E', 'F')\n",
    "    for x in range(len(g)):\n",
    "        if g[x] >= 10:\n",
    "            ans += t[x]\n",
    "        else:\n",
    "            ans += str(g[x])\n",
    "    return g\n",
    "print(Change(16, 12455))\n",
    "\n"
   ],
   "id": "54d3d887b9617e8f",
   "outputs": [
    {
     "name": "stdout",
     "output_type": "stream",
     "text": [
      "[7, 10, 0, 3]\n"
     ]
    }
   ],
   "execution_count": 38
  },
  {
   "metadata": {},
   "cell_type": "code",
   "outputs": [],
   "execution_count": null,
   "source": [
    "# 4. 给定一个整数的数字列表 L，判断 L 中是否存在相同数字，若存在返回 True，否则返回 False。\n",
    "#  请在横线上补全代码\n",
    "def identical(L):\n",
    "    flag = 0\n",
    "    L.sort()\n",
    "    for i in range(1,len(L)):\n",
    "        if L[i-1] == L[i]:\n",
    "            flag = 1\n",
    "            break\n",
    "    if flag:\n",
    "        return True\n",
    "    else:\n",
    "        return False\n"
   ],
   "id": "862f37c9b621f612"
  },
  {
   "metadata": {
    "ExecuteTime": {
     "end_time": "2025-10-14T07:15:36.925911Z",
     "start_time": "2025-10-14T07:15:36.828781Z"
    }
   },
   "cell_type": "code",
   "source": [
    "\n",
    "# 5. 程序填空。一个列表 a 中记录了连续多天的营业额，求其中最长的**连续增长（不含相等）**的子序列的长度。\n",
    "#  例如 [5, 1, 2, 3, 5, 9, 6, 7, 4, 6, 8] 中最长的连续增长（不含相等）的子序列长度是 5（即 [1, 2, 3, 5, 9] 的长度）。\n",
    "# a = [5, 1, 2, 3, 5, 9, 6, 7, 4, 6, 8, ......（这里省略一些数据）.....]\n",
    "a = [5, 1, 2, 3, 5, 9, 6, 7, 4, 6, 8]\n",
    "maxlen = 1\n",
    "n = 1\n",
    "for i in range(1, len(a)+1):\n",
    "    if a[i] < a[i+1]:\n",
    "        n += 1\n",
    "        if maxlen>len(a):\n",
    "            maxlen = len(a)\n",
    "    else:\n",
    "        n = 1\n",
    "print(maxlen)\n"
   ],
   "id": "508da1b0968f446f",
   "outputs": [
    {
     "ename": "IndexError",
     "evalue": "list index out of range",
     "output_type": "error",
     "traceback": [
      "\u001B[1;31m---------------------------------------------------------------------------\u001B[0m",
      "\u001B[1;31mIndexError\u001B[0m                                Traceback (most recent call last)",
      "Cell \u001B[1;32mIn[23], line 8\u001B[0m\n\u001B[0;32m      6\u001B[0m n \u001B[38;5;241m=\u001B[39m \u001B[38;5;241m1\u001B[39m\n\u001B[0;32m      7\u001B[0m \u001B[38;5;28;01mfor\u001B[39;00m i \u001B[38;5;129;01min\u001B[39;00m \u001B[38;5;28mrange\u001B[39m(\u001B[38;5;241m1\u001B[39m, \u001B[38;5;28mlen\u001B[39m(a)\u001B[38;5;241m+\u001B[39m\u001B[38;5;241m1\u001B[39m):\n\u001B[1;32m----> 8\u001B[0m     \u001B[38;5;28;01mif\u001B[39;00m a[i] \u001B[38;5;241m<\u001B[39m \u001B[43ma\u001B[49m\u001B[43m[\u001B[49m\u001B[43mi\u001B[49m\u001B[38;5;241;43m+\u001B[39;49m\u001B[38;5;241;43m1\u001B[39;49m\u001B[43m]\u001B[49m:\n\u001B[0;32m      9\u001B[0m         n \u001B[38;5;241m+\u001B[39m\u001B[38;5;241m=\u001B[39m \u001B[38;5;241m1\u001B[39m\n\u001B[0;32m     10\u001B[0m         \u001B[38;5;28;01mif\u001B[39;00m maxlen\u001B[38;5;241m>\u001B[39m\u001B[38;5;28mlen\u001B[39m(a):\n",
      "\u001B[1;31mIndexError\u001B[0m: list index out of range"
     ]
    }
   ],
   "execution_count": 23
  },
  {
   "metadata": {},
   "cell_type": "markdown",
   "source": "python数据分析",
   "id": "50b2e3128deea14b"
  },
  {
   "metadata": {},
   "cell_type": "code",
   "outputs": [],
   "execution_count": null,
   "source": [
    "# 描述（Description）\n",
    "# 你获得了一组包含出租车司机及其乘车信息的数据集。\n",
    "#  你的任务是对这些数据进行一些基本分析，并将结果保存到一个 CSV 文件中。数据包含在以下 CSV 文件中：\n",
    "# drivers.csv\n",
    "# ●driver_id（类型：int）：司机唯一标识符\n",
    "# ●age（类型：int）：司机年龄\n",
    "# ●second_language（类型：str）：司机的第二语言。如果司机没有第二语言，值为 \"no\"\n",
    "# ●rating（类型：float）：司机的平均评分\n",
    "\n",
    "# rides_{i}.csv\n",
    "# 分成 4 个文件（rides_1.csv 到 rides_4.csv）：\n",
    "# ●ride_id（类型：int）：唯一的乘车标识符\n",
    "# ●driver_id（类型：int）：司机标识符\n",
    "# ●passenger_id（类型：int）：乘客标识符\n",
    "# ●date（类型：str）：乘车日期\n",
    "# ●status（类型：str）：乘车状态，可能的值包括\n",
    "# ○\"Rejected by the driver\"（司机拒绝）\n",
    "# ○\"Cancelled by the passenger\"（乘客取消）\n",
    "# ○\"Success\"（成功）\n"
   ],
   "id": "9c24d7c19c9a0e22"
  },
  {
   "metadata": {
    "ExecuteTime": {
     "end_time": "2025-10-15T09:49:15.513751Z",
     "start_time": "2025-10-15T09:49:15.497648Z"
    }
   },
   "cell_type": "code",
   "source": [
    "# 你的任务如下：\n",
    "# 1️⃣ 计算司机的平均评分（Average Driver Rating）\n",
    "# ●从 drivers.csv 文件中计算 rating 列的平均值。\n",
    "# ●将结果保存为：\n",
    "# ○insight_type: \"average_driver_rating\"\n",
    "# ○value: 计算出的平均评分\n",
    "import pandas as pd\n",
    "data = pd.read_csv('driver.csv')\n",
    "\n",
    "a=data[\"rating\"].mean().round(2)\n",
    "print(a)"
   ],
   "id": "5619fa25c0b7ea3a",
   "outputs": [
    {
     "name": "stdout",
     "output_type": "stream",
     "text": [
      "4.53\n"
     ]
    }
   ],
   "execution_count": 66
  },
  {
   "metadata": {
    "ExecuteTime": {
     "end_time": "2025-10-15T09:50:13.010256Z",
     "start_time": "2025-10-15T09:50:12.998395Z"
    }
   },
   "cell_type": "code",
   "source": [
    "#  计算拥有第二语言的司机比例（Percentage of Drivers with a Second Language）\n",
    "# ●计算拥有第二语言的司机的比例（即 second_language 不为 \"no\" 的司机占总司机数的百分比）。\n",
    "# ●将结果保存为：\n",
    "# ○insight_type: \"percentage_drivers_with_second_language\"\n",
    "# ○value: 计算出的百分比\n",
    "\n",
    "b=((data[\"second_language\"][data[\"second_language\"] != None]).count()/len(data[\"second_language\"])).round(2)\n",
    "\n",
    "print(b)\n"
   ],
   "id": "f9392d148e66de7c",
   "outputs": [
    {
     "name": "stdout",
     "output_type": "stream",
     "text": [
      "0.82\n"
     ]
    }
   ],
   "execution_count": 71
  },
  {
   "metadata": {
    "ExecuteTime": {
     "end_time": "2025-10-15T09:53:13.700107Z",
     "start_time": "2025-10-15T09:53:13.667915Z"
    }
   },
   "cell_type": "code",
   "source": [
    "# 3️⃣ 计算乘车成功率（Ride Success Rate）\n",
    "# ●将所有 rides_{i}.csv 文件（从 1 到 4）合并为一个整体数据集。\n",
    "# ●计算成功乘车（即 status == \"Success\"）的比例。\n",
    "# ●将结果保存为：\n",
    "# ○insight_type: \"ride_success_rate\"\n",
    "# ○value: 计算出的百分比\n",
    "\n",
    "for i in range(1,5):\n",
    "    data=pd.read_csv(f\"rides_{i}.csv\",)\n",
    "    if i == 1:\n",
    "        data.to_csv(\"rides_n.csv\", mode=\"a\",index=False)\n",
    "    else:\n",
    "        data.to_csv(\"rides_n.csv\",mode=\"a\",header=False,index=False)\n",
    "\n",
    "data=pd.read_csv(\"rides_n.csv\")\n",
    "#\n",
    "print(data)\n",
    "\n",
    "c_1=sum(data[\"status\"]==\"成功\")/len(data[\"status\"])\n",
    "\n",
    "c=round(c_1,2)\n",
    "print(c)"
   ],
   "id": "9fcad324557bae7c",
   "outputs": [
    {
     "name": "stdout",
     "output_type": "stream",
     "text": [
      "     ride_id driver_id passenger_id              date status\n",
      "0      10000      1008         2177  2025-09-25 08:23     成功\n",
      "1      10001      1059         2335  2025-09-25 03:04     成功\n",
      "2      10002      1019         2350  2025-08-03 05:37     成功\n",
      "3      10003      1011         2341  2025-07-13 18:43     成功\n",
      "4      10004      1008         2035  2025-07-19 23:16   乘客取消\n",
      "...      ...       ...          ...               ...    ...\n",
      "1724   13027      1002         2060  2025-07-26 05:29   乘客取消\n",
      "1725   13028      1068         2096  2025-08-02 06:21   司机拒载\n",
      "1726   13029      1014         2059  2025-07-19 16:27     成功\n",
      "1727   13030      1016         2267  2025-09-07 11:26     成功\n",
      "1728   13031      1063         2381  2025-06-29 22:44   司机拒载\n",
      "\n",
      "[1729 rows x 5 columns]\n"
     ]
    },
    {
     "data": {
      "text/plain": [
       "0.65"
      ]
     },
     "execution_count": 75,
     "metadata": {},
     "output_type": "execute_result"
    }
   ],
   "execution_count": 75
  },
  {
   "metadata": {
    "ExecuteTime": {
     "end_time": "2025-10-15T10:00:05.434200Z",
     "start_time": "2025-10-15T10:00:05.411222Z"
    }
   },
   "cell_type": "code",
   "source": [
    "# 输出要求（Output Requirements）\n",
    "# ●将结果保存到一个名为 analysis_results.csv 的 CSV 文件中 （用代码保存）。\n",
    "# ●该 CSV 文件应包含两列：\n",
    "# ○insight_type\n",
    "# ○value\n",
    "# ●每一行对应一个任务结果，insight_type 为任务名称，value 为计算结果。\n",
    "# ●所有数值在保留两位小数的范围内视为正确。\n",
    "\n",
    "dict_A={\"insight_type\":[\"average_driver_rating\",\"percentage_drivers_with_second_language\",\"ride_success_rate\"],\"value\":[a,b,c]}\n",
    "dataframe_A = pd.DataFrame(dict_A).round(2)\n",
    "\n",
    "print(dataframe_A)\n",
    "\n",
    "dataframe_A.to_csv(\"analysis_result.csv\")"
   ],
   "id": "d22e1788b64d1c61",
   "outputs": [
    {
     "name": "stdout",
     "output_type": "stream",
     "text": [
      "                              insight_type  value\n",
      "0                    average_driver_rating   4.53\n",
      "1  percentage_drivers_with_second_language   0.82\n",
      "2                        ride_success_rate   0.65\n"
     ]
    }
   ],
   "execution_count": 79
  },
  {
   "metadata": {},
   "cell_type": "markdown",
   "source": [
    "python深度学习\n",
    "深度学习训练相关名词解释\n",
    "\n",
    "1.简述 Batch Normalization 的基本原理与作用。\n",
    "批量归一化层是将数据进行标准化，压缩等处理，作用是防止数据计算过大，导致梯度爆炸或者梯度消失\n",
    "\n",
    "2.什么是 Dropout？它在深度神经网络训练中的作用是什么？\n",
    "Dropout层是控制神经元活动，多少个神经元参与运算，也可以当做一项正则化技术使用\n",
    "\n",
    "3.解释梯度裁剪的概念及其在训练过程中的作用。\n",
    "梯度裁剪是在反向传播过程中防止梯度消失或者梯度爆炸\n",
    "\n",
    "4.什么是早停？为什么它能防止过拟合？\n",
    "在数据训练达到一定的轮次，评估数值没有什么太大的变化，在没有太大变化就停了  不至于一致训练下去导致过拟合\n",
    "\n",
    "5.数据增强（Data Augmentation）在训练过程中的意义是什么？请举例说明。\n",
    "可以训练只有少量数据，相当于增加了训练数据\n",
    "\n",
    "6.什么是梯度消失？ 为什么会出现？ 有哪些解决办法？\n",
    "梯度消失是由于运算过多，一些权重会越乘越小      解决方法是  用一些初始化技术  或者 梯度裁剪\n",
    "\n",
    "7.什么是学习率调度？有什么好处？\n",
    "按照一定的方式来调学习率，好处是更快的使学习率到达最优解"
   ],
   "id": "f6e671a33741883a"
  },
  {
   "metadata": {
    "ExecuteTime": {
     "end_time": "2025-10-14T07:47:59.729829Z",
     "start_time": "2025-10-14T07:47:59.717592Z"
    }
   },
   "cell_type": "code",
   "source": [
    "# 假设我们用 60 天的价格预测第 61 天价格\n",
    "import numpy as np\n",
    "time_steps = 60\n",
    "features = 1\n",
    "samples = 200\n",
    "\n",
    "# 构造输入数据 (samples, time_steps, features)\n",
    "x_train = np.random.rand(samples, time_steps, features)  # 200个 60天股票价格\n",
    "y_train = np.random.rand(samples, 1)                     # 200个 对应的第61天股票价格\n",
    "x_test  = np.random.rand(10, time_steps, features)       # 测试数据\n"
   ],
   "id": "de287c0f1dcfc6e1",
   "outputs": [],
   "execution_count": 30
  },
  {
   "metadata": {
    "ExecuteTime": {
     "end_time": "2025-10-14T07:54:14.901706Z",
     "start_time": "2025-10-14T07:54:14.263465Z"
    }
   },
   "cell_type": "code",
   "source": [
    "# 构建5层Sequential神经网络预测股票价格，要求包含：\n",
    "# ●2个LSTM层（首层units=4需设置input_shape）\n",
    "# ●每个LSTM层后接Dropout层(rate=0.2)\n",
    "# ●最终Dense层(units=1) 实现步骤：\n",
    "# 1.使用stock_model变量构建模型\n",
    "# 2.编译模型(loss=‘mean_squared_error’, optimizer=‘adam’)\n",
    "# 3.训练配置(epochs=5, batch_size=16, verbose=0)\n",
    "# 4.输出模型summary()\n",
    "# 5.预测x_test并输出最后一列\n",
    "# 注意：x_train, y_train, x_test不用再写代码改动\n",
    "import tensorflow as tf\n",
    "\n",
    "stock_model=tf.keras.models.Sequential([\n",
    "    tf.keras.layers.LSTM(units=4, return_sequences=True,input_shape=(time_steps, features)),\n",
    "    tf.keras.layers.Dropout(0.2),\n",
    "    tf.keras.layers.LSTM(units=4, return_sequences=True),\n",
    "    tf.keras.layers.Dropout(0.2),\n",
    "    tf.keras.layers.Dense(1)\n",
    "])\n",
    "\n",
    "stock_model.compile(loss=tf.keras.losses.mean_squared_error,optimizer=tf.keras.optimizers.Adam(),metrics=[tf.keras.metrics.MeanSquaredError()])\n"
   ],
   "id": "7709a102b55b5133",
   "outputs": [],
   "execution_count": 32
  },
  {
   "metadata": {
    "ExecuteTime": {
     "end_time": "2025-10-14T07:54:21.043327Z",
     "start_time": "2025-10-14T07:54:17.144533Z"
    }
   },
   "cell_type": "code",
   "source": "stock_model.fit(x_train, y_train, epochs=5,batch_size=16,verbose=0)",
   "id": "5c2429875dfb29c5",
   "outputs": [
    {
     "data": {
      "text/plain": [
       "<keras.src.callbacks.History at 0x25c48dad1e0>"
      ]
     },
     "execution_count": 33,
     "metadata": {},
     "output_type": "execute_result"
    }
   ],
   "execution_count": 33
  },
  {
   "metadata": {
    "ExecuteTime": {
     "end_time": "2025-10-14T07:54:48.930464Z",
     "start_time": "2025-10-14T07:54:48.903223Z"
    }
   },
   "cell_type": "code",
   "source": "stock_model.summary()",
   "id": "eb2911b4ffac35d",
   "outputs": [
    {
     "name": "stdout",
     "output_type": "stream",
     "text": [
      "Model: \"sequential\"\n",
      "_________________________________________________________________\n",
      " Layer (type)                Output Shape              Param #   \n",
      "=================================================================\n",
      " lstm (LSTM)                 (None, 60, 4)             96        \n",
      "                                                                 \n",
      " dropout (Dropout)           (None, 60, 4)             0         \n",
      "                                                                 \n",
      " lstm_1 (LSTM)               (None, 60, 4)             144       \n",
      "                                                                 \n",
      " dropout_1 (Dropout)         (None, 60, 4)             0         \n",
      "                                                                 \n",
      " dense (Dense)               (None, 60, 1)             5         \n",
      "                                                                 \n",
      "=================================================================\n",
      "Total params: 245 (980.00 Byte)\n",
      "Trainable params: 245 (980.00 Byte)\n",
      "Non-trainable params: 0 (0.00 Byte)\n",
      "_________________________________________________________________\n"
     ]
    }
   ],
   "execution_count": 34
  },
  {
   "metadata": {
    "ExecuteTime": {
     "end_time": "2025-10-14T07:55:37.718244Z",
     "start_time": "2025-10-14T07:55:37.653406Z"
    }
   },
   "cell_type": "code",
   "source": "stock_model.predict(x_test)[-1]",
   "id": "933ee0fe80d29c47",
   "outputs": [
    {
     "name": "stdout",
     "output_type": "stream",
     "text": [
      "1/1 [==============================] - 0s 21ms/step\n"
     ]
    },
    {
     "data": {
      "text/plain": [
       "array([[0.07278477],\n",
       "       [0.09709185],\n",
       "       [0.12000278],\n",
       "       [0.1417119 ],\n",
       "       [0.16742107],\n",
       "       [0.19127566],\n",
       "       [0.21430469],\n",
       "       [0.24491102],\n",
       "       [0.27967805],\n",
       "       [0.31472096],\n",
       "       [0.3492417 ],\n",
       "       [0.37320435],\n",
       "       [0.39794427],\n",
       "       [0.41954324],\n",
       "       [0.43362597],\n",
       "       [0.44942358],\n",
       "       [0.46530142],\n",
       "       [0.47909275],\n",
       "       [0.48638174],\n",
       "       [0.49755165],\n",
       "       [0.50688076],\n",
       "       [0.51418376],\n",
       "       [0.51751536],\n",
       "       [0.51816607],\n",
       "       [0.51483613],\n",
       "       [0.5133639 ],\n",
       "       [0.5157946 ],\n",
       "       [0.51415384],\n",
       "       [0.5168334 ],\n",
       "       [0.5157866 ],\n",
       "       [0.5118852 ],\n",
       "       [0.51023585],\n",
       "       [0.50490695],\n",
       "       [0.5028358 ],\n",
       "       [0.5039626 ],\n",
       "       [0.49961606],\n",
       "       [0.4983826 ],\n",
       "       [0.5012335 ],\n",
       "       [0.5042066 ],\n",
       "       [0.50268835],\n",
       "       [0.5086829 ],\n",
       "       [0.5088669 ],\n",
       "       [0.50655025],\n",
       "       [0.50353414],\n",
       "       [0.50769687],\n",
       "       [0.50660676],\n",
       "       [0.5093139 ],\n",
       "       [0.5079197 ],\n",
       "       [0.5043419 ],\n",
       "       [0.5010297 ],\n",
       "       [0.50169206],\n",
       "       [0.4961618 ],\n",
       "       [0.49212018],\n",
       "       [0.4877813 ],\n",
       "       [0.48449072],\n",
       "       [0.47832036],\n",
       "       [0.47644997],\n",
       "       [0.48066956],\n",
       "       [0.48475796],\n",
       "       [0.49216706]], dtype=float32)"
      ]
     },
     "execution_count": 36,
     "metadata": {},
     "output_type": "execute_result"
    }
   ],
   "execution_count": 36
  },
  {
   "metadata": {},
   "cell_type": "code",
   "outputs": [],
   "execution_count": null,
   "source": "",
   "id": "75de9063ac25f4e7"
  }
 ],
 "metadata": {
  "kernelspec": {
   "display_name": "Python 3",
   "language": "python",
   "name": "python3"
  },
  "language_info": {
   "codemirror_mode": {
    "name": "ipython",
    "version": 2
   },
   "file_extension": ".py",
   "mimetype": "text/x-python",
   "name": "python",
   "nbconvert_exporter": "python",
   "pygments_lexer": "ipython2",
   "version": "2.7.6"
  }
 },
 "nbformat": 4,
 "nbformat_minor": 5
}
